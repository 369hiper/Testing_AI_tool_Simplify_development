{
  "nbformat": 4,
  "nbformat_minor": 0,
  "metadata": {
    "colab": {
      "provenance": [],
      "authorship_tag": "ABX9TyMJMlZ79mx7CyD8ej183ZLR",
      "include_colab_link": true
    },
    "kernelspec": {
      "name": "python3",
      "display_name": "Python 3"
    },
    "language_info": {
      "name": "python"
    }
  },
  "cells": [
    {
      "cell_type": "markdown",
      "metadata": {
        "id": "view-in-github",
        "colab_type": "text"
      },
      "source": [
        "<a href=\"https://colab.research.google.com/github/369hiper/Testing_AI_tool_Simplify_development/blob/main/Simplifying_development_using_AI_Tools.ipynb\" target=\"_parent\"><img src=\"https://colab.research.google.com/assets/colab-badge.svg\" alt=\"Open In Colab\"/></a>"
      ]
    },
    {
      "cell_type": "code",
      "execution_count": null,
      "metadata": {
        "colab": {
          "base_uri": "https://localhost:8080/"
        },
        "id": "8-nV4OvNaZ_R",
        "outputId": "09cb7933-d24a-4009-ca8e-0e66b1c72fc0"
      },
      "outputs": [
        {
          "output_type": "stream",
          "name": "stdout",
          "text": [
            "    PassengerId                                               Name     Sex  \\\n",
            "0             1                            Braund, Mr. Owen Harris    male   \n",
            "1             2  Cumings, Mrs. John Bradley (Florence Briggs Th...  female   \n",
            "2             3                             Heikkinen, Miss. Laina  female   \n",
            "3             4       Futrelle, Mrs. Jacques Heath (Lily May Peel)  female   \n",
            "4             5                           Allen, Mr. William Henry    male   \n",
            "5             6                                   Moran, Mr. James    male   \n",
            "6             7                            McCarthy, Mr. Timothy J    male   \n",
            "7             8                     Palsson, Master. Gosta Leonard    male   \n",
            "8             9  Johnson, Mrs. Oscar W (Elisabeth Vilhelmina Berg)  female   \n",
            "9            10                Nasser, Mrs. Nicholas (Adele Achem)  female   \n",
            "10           11                    Sandstrom, Miss. Marguerite Rut  female   \n",
            "11           12                           Bonnell, Miss. Elizabeth  female   \n",
            "\n",
            "     Title  \n",
            "0       Mr  \n",
            "1      Mrs  \n",
            "2     Miss  \n",
            "3      Mrs  \n",
            "4       Mr  \n",
            "5       Mr  \n",
            "6       Mr  \n",
            "7   Master  \n",
            "8      Mrs  \n",
            "9      Mrs  \n",
            "10    Miss  \n",
            "11    Miss  \n"
          ]
        }
      ],
      "source": [
        "import pandas as pd\n",
        "\n",
        "# Define the Titanic dataset\n",
        "data = {\n",
        "    'PassengerId': [1, 2, 3, 4, 5, 6, 7, 8, 9, 10, 11, 12],\n",
        "    'Survived': [0, 1, 1, 1, 0, 0, 0, 0, 1, 1, 1, 1],\n",
        "    'Pclass': [3, 1, 3, 1, 3, 3, 1, 3, 3, 2, 3, 1],\n",
        "    'Name': [\n",
        "        'Braund, Mr. Owen Harris',\n",
        "        'Cumings, Mrs. John Bradley (Florence Briggs Thayer)',\n",
        "        'Heikkinen, Miss. Laina',\n",
        "        'Futrelle, Mrs. Jacques Heath (Lily May Peel)',\n",
        "        'Allen, Mr. William Henry',\n",
        "        'Moran, Mr. James',\n",
        "        'McCarthy, Mr. Timothy J',\n",
        "        'Palsson, Master. Gosta Leonard',\n",
        "        'Johnson, Mrs. Oscar W (Elisabeth Vilhelmina Berg)',\n",
        "        'Nasser, Mrs. Nicholas (Adele Achem)',\n",
        "        'Sandstrom, Miss. Marguerite Rut',\n",
        "        'Bonnell, Miss. Elizabeth'\n",
        "    ],\n",
        "    'Sex': ['male', 'female', 'female', 'female', 'male', 'male', 'male', 'male', 'female', 'female', 'female', 'female'],\n",
        "    'Age': [22, 38, 26, 35, 35, None, 54, 2, 27, 14, 4, 58],\n",
        "    'SibSp': [1, 1, 0, 1, 0, 0, 0, 3, 0, 1, 1, 0],\n",
        "    'Parch': [0, 0, 0, 0, 0, 0, 0, 1, 2, 0, 1, 0],\n",
        "    'Ticket': [\n",
        "        'A/5 21171',\n",
        "        'PC 17599',\n",
        "        'STON/O2. 3101282',\n",
        "        '113803',\n",
        "        '373450',\n",
        "        '330877',\n",
        "        '17463',\n",
        "        '349909',\n",
        "        '347742',\n",
        "        '237736',\n",
        "        'PP 9549',\n",
        "        '113783'\n",
        "    ],\n",
        "    'Fare': [7.25, 71.2833, 7.925, 53.1, 8.05, 8.4583, 51.8625, 21.075, 11.1333, 30.0708, 16.7, 26.55],\n",
        "    'Cabin': ['', 'C85', '', 'C123', '', '', 'E46', '', '', 'C', 'G6', 'C103'],\n",
        "    'Embarked': ['S', 'C', 'S', 'S', 'S', 'Q', 'S', 'S', 'S', 'C', 'S', 'S']\n",
        "}\n",
        "\n",
        "# Create a DataFrame from the data\n",
        "df = pd.DataFrame(data)\n",
        "\n",
        "# Extract the titles from the \"Name\" column\n",
        "df['Title'] = df['Name'].str.extract(r'\\b(\\w+)\\.')\n",
        "\n",
        "# Map the titles according to gender\n",
        "title_map = {\n",
        "    'Mr': 'Mr',\n",
        "    'Mrs': 'Mrs',\n",
        "    'Miss': 'Miss',\n",
        "    'Master': 'Master'\n",
        "}\n",
        "df['Title'] = df['Title'].map(title_map)\n",
        "\n",
        "# Display the updated DataFrame\n",
        "print(df[['PassengerId', 'Name', 'Sex', 'Title']])\n"
      ]
    },
    {
      "cell_type": "code",
      "source": [
        "def fibonacci(n):\n",
        "    # Check for exceptional cases\n",
        "    if n == 0:\n",
        "        return 0\n",
        "    elif n == 1 or n == 2:\n",
        "        return 1\n",
        "\n",
        "    # Calculate the nth Fibonacci number\n",
        "    fib_sequence = [0, 1]\n",
        "    for i in range(2, n + 1):\n",
        "        fib_sequence.append(fib_sequence[i - 1] + fib_sequence[i - 2])\n",
        "\n",
        "    return fib_sequence[n]\n",
        "\n",
        "# Test the function with different values\n",
        "n = 0\n",
        "result = fibonacci(n)\n",
        "print(f\"The {n}th Fibonacci number is: {result}\")\n",
        "\n",
        "n = 1\n",
        "result = fibonacci(n)\n",
        "print(f\"The {n}st Fibonacci number is: {result}\")\n",
        "\n",
        "n = 2\n",
        "result = fibonacci(n)\n",
        "print(f\"The {n}nd Fibonacci number is: {result}\")\n",
        "\n",
        "n = 10\n",
        "result = fibonacci(n)\n",
        "print(f\"The {n}th Fibonacci number is: {result}\")\n"
      ],
      "metadata": {
        "colab": {
          "base_uri": "https://localhost:8080/"
        },
        "id": "yAVviMjfbNc9",
        "outputId": "892052eb-2a3f-47f6-e28e-e4976794ee10"
      },
      "execution_count": null,
      "outputs": [
        {
          "output_type": "stream",
          "name": "stdout",
          "text": [
            "The 0th Fibonacci number is: 0\n",
            "The 1st Fibonacci number is: 1\n",
            "The 2nd Fibonacci number is: 1\n",
            "The 10th Fibonacci number is: 55\n"
          ]
        }
      ]
    },
    {
      "cell_type": "code",
      "source": [
        "def fibonacci(n):\n",
        "    if n == 0:\n",
        "        return 0\n",
        "    elif n == 1 or n == 2:\n",
        "        return 1\n",
        "    else:\n",
        "        fib_sequence = [0, 1]\n",
        "        for i in range(2, n + 1):\n",
        "            fib_sequence.append(fib_sequence[i - 1] + fib_sequence[i - 2])\n",
        "        return fib_sequence[n]\n",
        "\n",
        "# Ask the user for input\n",
        "n = int(input(\"Enter the value of n to find the nth Fibonacci number: \"))\n",
        "\n",
        "result = fibonacci(n)\n",
        "print(f\"The {n}th Fibonacci number is: {result}\")\n"
      ],
      "metadata": {
        "colab": {
          "base_uri": "https://localhost:8080/"
        },
        "id": "O_oM3yBubOLm",
        "outputId": "a38cf1b2-7a5f-41da-b7c1-379d7e4cdb23"
      },
      "execution_count": null,
      "outputs": [
        {
          "output_type": "stream",
          "name": "stdout",
          "text": [
            "Enter the value of n to find the nth Fibonacci number: 12\n",
            "The 12th Fibonacci number is: 144\n"
          ]
        }
      ]
    },
    {
      "cell_type": "code",
      "source": [
        "import unittest\n",
        "\n",
        "def fibonacci(n):\n",
        "    if n == 0:\n",
        "        return 0\n",
        "    elif n == 1 or n == 2:\n",
        "        return 1\n",
        "    else:\n",
        "        fib_sequence = [0, 1]\n",
        "        for i in range(2, n + 1):\n",
        "            fib_sequence.append(fib_sequence[i - 1] + fib_sequence[i - 2])\n",
        "        return fib_sequence[n]\n",
        "\n",
        "class FibonacciTestCase(unittest.TestCase):\n",
        "    def test_zeroth_fibonacci_number(self):\n",
        "        self.assertEqual(fibonacci(0), 0)\n",
        "\n",
        "    def test_first_fibonacci_number(self):\n",
        "        self.assertEqual(fibonacci(1), 1)\n",
        "\n",
        "    def test_second_fibonacci_number(self):\n",
        "        self.assertEqual(fibonacci(2), 1)\n",
        "\n",
        "    def test_fifth_fibonacci_number(self):\n",
        "        self.assertEqual(fibonacci(5), 5)\n",
        "\n",
        "    def test_tenth_fibonacci_number(self):\n",
        "        self.assertEqual(fibonacci(10), 55)\n",
        "\n",
        "    def test_large_fibonacci_number(self):\n",
        "        self.assertEqual(fibonacci(20), 6765)\n",
        "\n",
        "if __name__ == '__main__':\n",
        "    unittest.main()\n"
      ],
      "metadata": {
        "colab": {
          "base_uri": "https://localhost:8080/",
          "height": 342
        },
        "id": "UU7MHF8bcL6b",
        "outputId": "daf3355e-6815-46cf-d1f0-7bcb576977d0"
      },
      "execution_count": null,
      "outputs": [
        {
          "output_type": "stream",
          "name": "stderr",
          "text": [
            "E\n",
            "======================================================================\n",
            "ERROR: /root/ (unittest.loader._FailedTest)\n",
            "----------------------------------------------------------------------\n",
            "AttributeError: module '__main__' has no attribute '/root/'\n",
            "\n",
            "----------------------------------------------------------------------\n",
            "Ran 1 test in 0.006s\n",
            "\n",
            "FAILED (errors=1)\n"
          ]
        },
        {
          "output_type": "error",
          "ename": "SystemExit",
          "evalue": "ignored",
          "traceback": [
            "An exception has occurred, use %tb to see the full traceback.\n",
            "\u001b[0;31mSystemExit\u001b[0m\u001b[0;31m:\u001b[0m True\n"
          ]
        },
        {
          "output_type": "stream",
          "name": "stderr",
          "text": [
            "/usr/local/lib/python3.10/dist-packages/IPython/core/interactiveshell.py:3561: UserWarning: To exit: use 'exit', 'quit', or Ctrl-D.\n",
            "  warn(\"To exit: use 'exit', 'quit', or Ctrl-D.\", stacklevel=1)\n"
          ]
        }
      ]
    },
    {
      "cell_type": "code",
      "source": [
        "import unittest\n",
        "\n",
        "def fibonacci(n):\n",
        "    if n == 0:\n",
        "        return 0\n",
        "    elif n == 1 or n == 2:\n",
        "        return 1\n",
        "    else:\n",
        "        fib_sequence = [0, 1]\n",
        "        for i in range(2, n + 1):\n",
        "            fib_sequence.append(fib_sequence[i - 1] + fib_sequence[i - 2])\n",
        "        return fib_sequence[n]\n",
        "\n",
        "class FibonacciTestCase(unittest.TestCase):\n",
        "    def test_zeroth_fibonacci_number(self):\n",
        "        self.assertEqual(fibonacci(0), 0)\n",
        "\n",
        "    def test_first_fibonacci_number(self):\n",
        "        self.assertEqual(fibonacci(1), 1)\n",
        "\n",
        "    def test_second_fibonacci_number(self):\n",
        "        self.assertEqual(fibonacci(2), 1)\n",
        "\n",
        "    def test_fifth_fibonacci_number(self):\n",
        "        self.assertEqual(fibonacci(5), 5)\n",
        "\n",
        "    def test_tenth_fibonacci_number(self):\n",
        "        self.assertEqual(fibonacci(10), 55)\n",
        "\n",
        "    def test_large_fibonacci_number(self):\n",
        "        self.assertEqual(fibonacci(20), 6765)\n",
        "\n",
        "if __name__ == '__main__':\n",
        "    unittest.main(argv=[''], exit=False)\n"
      ],
      "metadata": {
        "colab": {
          "base_uri": "https://localhost:8080/"
        },
        "id": "mMU56f4lcf5L",
        "outputId": "b20fa5f2-8c64-4fc0-e5da-6fe9ec19ae6f"
      },
      "execution_count": null,
      "outputs": [
        {
          "output_type": "stream",
          "name": "stderr",
          "text": [
            "......\n",
            "----------------------------------------------------------------------\n",
            "Ran 6 tests in 0.015s\n",
            "\n",
            "OK\n"
          ]
        }
      ]
    },
    {
      "cell_type": "code",
      "source": [],
      "metadata": {
        "id": "eC2x62SHcMtD"
      },
      "execution_count": null,
      "outputs": []
    }
  ]
}